{
 "cells": [
  {
   "cell_type": "markdown",
   "id": "1480589e",
   "metadata": {},
   "source": [
    "# Pyro models"
   ]
  },
  {
   "cell_type": "code",
   "execution_count": null,
   "id": "d670f72b",
   "metadata": {},
   "outputs": [],
   "source": [
    "import pandas as pd\n",
    "import numpy as np\n",
    "from hmmlearn import hmm\n",
    "import matplotlib.pyplot as plt\n",
    "from pyprojroot import here\n",
    "import pyro\n",
    "import pyro.distributions as dist\n",
    "import pyro.distributions.constraints as constraints\n",
    "\n",
    "data = pd.read_csv(here(\"data/recent_donations.csv\"))\n",
    "data"
   ]
  },
  {
   "cell_type": "code",
   "execution_count": null,
   "id": "a34c15d2",
   "metadata": {},
   "outputs": [],
   "source": [
    "def simple_pyro_model():\n",
    "    FY = pyro.sample(name=\"First donation year\",\n",
    "                     fn=dist.Uniform(low=2010, high=2020).expand_by([10]).to_event(1)),\n",
    "                     obs=data[\"First donation year\"].values)"
   ]
  }
 ],
 "metadata": {
  "kernelspec": {
   "display_name": "Python 3",
   "language": "python",
   "name": "python3"
  },
  "language_info": {
   "name": "python",
   "version": "3.13.2"
  }
 },
 "nbformat": 4,
 "nbformat_minor": 5
}
